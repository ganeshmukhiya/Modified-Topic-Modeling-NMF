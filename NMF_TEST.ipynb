{
  "nbformat": 4,
  "nbformat_minor": 0,
  "metadata": {
    "colab": {
      "provenance": [],
      "authorship_tag": "ABX9TyN/KMMAmr5PXXTOOipR4ml7",
      "include_colab_link": true
    },
    "kernelspec": {
      "name": "python3",
      "display_name": "Python 3"
    },
    "language_info": {
      "name": "python"
    }
  },
  "cells": [
    {
      "cell_type": "markdown",
      "metadata": {
        "id": "view-in-github",
        "colab_type": "text"
      },
      "source": [
        "<a href=\"https://colab.research.google.com/github/ganeshmukhiya/Topic-Modeling-NMF/blob/main/NMF_TEST.ipynb\" target=\"_parent\"><img src=\"https://colab.research.google.com/assets/colab-badge.svg\" alt=\"Open In Colab\"/></a>"
      ]
    },
    {
      "cell_type": "code",
      "source": [
        "import numpy as np\n",
        "import matplotlib.pyplot as plt\n",
        "from sklearn.datasets import fetch_20newsgroups\n",
        "from sklearn.feature_extraction.text import TfidfVectorizer\n",
        "from sklearn.decomposition import NMF\n"
      ],
      "metadata": {
        "id": "meMooaljlIlh"
      },
      "execution_count": 10,
      "outputs": []
    },
    {
      "cell_type": "code",
      "execution_count": 1,
      "metadata": {
        "colab": {
          "base_uri": "https://localhost:8080/"
        },
        "id": "H_U9utBcjddV",
        "outputId": "b4324ad5-5aae-4674-84a2-c1bbb8108853"
      },
      "outputs": [
        {
          "output_type": "stream",
          "name": "stdout",
          "text": [
            "Total number of documents: 18846\n",
            "Number of categories: 20\n",
            "Categories: ['alt.atheism', 'comp.graphics', 'comp.os.ms-windows.misc', 'comp.sys.ibm.pc.hardware', 'comp.sys.mac.hardware', 'comp.windows.x', 'misc.forsale', 'rec.autos', 'rec.motorcycles', 'rec.sport.baseball', 'rec.sport.hockey', 'sci.crypt', 'sci.electronics', 'sci.med', 'sci.space', 'soc.religion.christian', 'talk.politics.guns', 'talk.politics.mideast', 'talk.politics.misc', 'talk.religion.misc']\n"
          ]
        }
      ],
      "source": [
        "#Verify Dataset Loading\n",
        "from sklearn.datasets import fetch_20newsgroups\n",
        "\n",
        "# Load the dataset\n",
        "newsgroups = fetch_20newsgroups(subset='all', remove=('headers', 'footers', 'quotes'))\n",
        "\n",
        "# Verify dataset loading\n",
        "print(f\"Total number of documents: {len(newsgroups.data)}\")\n",
        "print(f\"Number of categories: {len(newsgroups.target_names)}\")\n",
        "print(f\"Categories: {newsgroups.target_names}\")\n"
      ]
    },
    {
      "cell_type": "code",
      "source": [
        "#Verify TF-IDF Vectorization\n",
        "from sklearn.feature_extraction.text import TfidfVectorizer\n",
        "\n",
        "# Vectorize the dataset using TF-IDF\n",
        "vectorizer = TfidfVectorizer(max_df=0.95, min_df=2, stop_words='english')\n",
        "tfidf = vectorizer.fit_transform(newsgroups.data)\n",
        "\n",
        "# Verify TF-IDF matrix\n",
        "print(f\"Shape of TF-IDF matrix: {tfidf.shape}\")\n"
      ],
      "metadata": {
        "colab": {
          "base_uri": "https://localhost:8080/"
        },
        "id": "Irid8m8CkHZI",
        "outputId": "3389142e-e91d-4b4e-9330-829bd808fc37"
      },
      "execution_count": 2,
      "outputs": [
        {
          "output_type": "stream",
          "name": "stdout",
          "text": [
            "Shape of TF-IDF matrix: (18846, 51840)\n"
          ]
        }
      ]
    },
    {
      "cell_type": "code",
      "source": [
        "#Verify NMF Model\n",
        "from sklearn.decomposition import NMF\n",
        "\n",
        "# Apply NMF for topic modeling\n",
        "n_topics = 10\n",
        "nmf_model = NMF(n_components=n_topics, random_state=42)\n",
        "W = nmf_model.fit_transform(tfidf)\n",
        "H = nmf_model.components_\n",
        "\n",
        "# Verify NMF results\n",
        "print(f\"Shape of W (document-topic matrix): {W.shape}\")\n",
        "print(f\"Shape of H (topic-term matrix): {H.shape}\")\n"
      ],
      "metadata": {
        "colab": {
          "base_uri": "https://localhost:8080/"
        },
        "id": "d9ipxHWTkZsW",
        "outputId": "4101e7a8-3ed7-4df4-f9b2-83fc738888cf"
      },
      "execution_count": 3,
      "outputs": [
        {
          "output_type": "stream",
          "name": "stdout",
          "text": [
            "Shape of W (document-topic matrix): (18846, 10)\n",
            "Shape of H (topic-term matrix): (10, 51840)\n"
          ]
        }
      ]
    },
    {
      "cell_type": "code",
      "source": [
        "#Sample Topic Extraction\n",
        "# Extract the feature names (words) from the TF-IDF vectorizer\n",
        "feature_names = vectorizer.get_feature_names_out()\n",
        "\n",
        "# Display the top words for each topic\n",
        "for topic_idx, topic in enumerate(H):\n",
        "    print(f\"Topic #{topic_idx + 1}:\")\n",
        "    print(\" \".join([feature_names[i] for i in topic.argsort()[:-11:-1]]))\n",
        "    print(\"\\n\")\n"
      ],
      "metadata": {
        "colab": {
          "base_uri": "https://localhost:8080/"
        },
        "id": "b3N3SQGzkgxT",
        "outputId": "a7c4c8c4-1c5b-468f-fbf1-7aab392665e8"
      },
      "execution_count": 4,
      "outputs": [
        {
          "output_type": "stream",
          "name": "stdout",
          "text": [
            "Topic #1:\n",
            "don just like think know good ve time really want\n",
            "\n",
            "\n",
            "Topic #2:\n",
            "windows dos file program files window use using run running\n",
            "\n",
            "\n",
            "Topic #3:\n",
            "god jesus bible believe christ faith christian christians sin church\n",
            "\n",
            "\n",
            "Topic #4:\n",
            "drive scsi ide disk card controller hard drives bus floppy\n",
            "\n",
            "\n",
            "Topic #5:\n",
            "key chip encryption clipper keys government escrow use algorithm phone\n",
            "\n",
            "\n",
            "Topic #6:\n",
            "thanks does know mail advance hi info looking information help\n",
            "\n",
            "\n",
            "Topic #7:\n",
            "00 new 10 sale car price 50 20 shipping offer\n",
            "\n",
            "\n",
            "Topic #8:\n",
            "game games team year hockey baseball season players play espn\n",
            "\n",
            "\n",
            "Topic #9:\n",
            "edu geb dsl cadre n3jxp chastity pitt skepticism intellect shameful\n",
            "\n",
            "\n",
            "Topic #10:\n",
            "people government israel armenian jews armenians gun state did children\n",
            "\n",
            "\n"
          ]
        }
      ]
    },
    {
      "cell_type": "code",
      "source": [
        "# Select a random document from the dataset\n",
        "doc_id = np.random.randint(0, len(W))\n",
        "print(f\"Document #{doc_id} Topic Distribution: {W[doc_id]}\")\n"
      ],
      "metadata": {
        "colab": {
          "base_uri": "https://localhost:8080/"
        },
        "id": "N8vCIbx0ku7L",
        "outputId": "81d0db12-a1de-4afc-9b5f-a6b02f4085b3"
      },
      "execution_count": 8,
      "outputs": [
        {
          "output_type": "stream",
          "name": "stdout",
          "text": [
            "Document #6517 Topic Distribution: [0.03759759 0.00012413 0.         0.         0.         0.\n",
            " 0.00160295 0.         0.00090766 0.00592252]\n"
          ]
        }
      ]
    },
    {
      "cell_type": "code",
      "source": [
        "# Display the top words for each topic\n",
        "for topic_idx, topic in enumerate(H):\n",
        "    print(f\"Topic #{topic_idx + 1}:\")\n",
        "    print(\" \".join([feature_names[i] for i in topic.argsort()[:-11:-1]]))\n",
        "    print(\"\\n\")\n"
      ],
      "metadata": {
        "colab": {
          "base_uri": "https://localhost:8080/"
        },
        "id": "wYcmiAL8mNNX",
        "outputId": "77b49da1-df5f-4ffa-cb55-3c7167e8e090"
      },
      "execution_count": 6,
      "outputs": [
        {
          "output_type": "stream",
          "name": "stdout",
          "text": [
            "Topic #1:\n",
            "don just like think know good ve time really want\n",
            "\n",
            "\n",
            "Topic #2:\n",
            "windows dos file program files window use using run running\n",
            "\n",
            "\n",
            "Topic #3:\n",
            "god jesus bible believe christ faith christian christians sin church\n",
            "\n",
            "\n",
            "Topic #4:\n",
            "drive scsi ide disk card controller hard drives bus floppy\n",
            "\n",
            "\n",
            "Topic #5:\n",
            "key chip encryption clipper keys government escrow use algorithm phone\n",
            "\n",
            "\n",
            "Topic #6:\n",
            "thanks does know mail advance hi info looking information help\n",
            "\n",
            "\n",
            "Topic #7:\n",
            "00 new 10 sale car price 50 20 shipping offer\n",
            "\n",
            "\n",
            "Topic #8:\n",
            "game games team year hockey baseball season players play espn\n",
            "\n",
            "\n",
            "Topic #9:\n",
            "edu geb dsl cadre n3jxp chastity pitt skepticism intellect shameful\n",
            "\n",
            "\n",
            "Topic #10:\n",
            "people government israel armenian jews armenians gun state did children\n",
            "\n",
            "\n"
          ]
        }
      ]
    }
  ]
}