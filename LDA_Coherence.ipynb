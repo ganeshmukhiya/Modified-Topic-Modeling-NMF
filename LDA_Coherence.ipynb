{
  "nbformat": 4,
  "nbformat_minor": 0,
  "metadata": {
    "colab": {
      "provenance": [],
      "authorship_tag": "ABX9TyPvs+EdIWWbEICbBYyR8ryM",
      "include_colab_link": true
    },
    "kernelspec": {
      "name": "python3",
      "display_name": "Python 3"
    },
    "language_info": {
      "name": "python"
    }
  },
  "cells": [
    {
      "cell_type": "markdown",
      "metadata": {
        "id": "view-in-github",
        "colab_type": "text"
      },
      "source": [
        "<a href=\"https://colab.research.google.com/github/ganeshmukhiya/Topic-Modeling-NMF/blob/main/LDA_Coherence.ipynb\" target=\"_parent\"><img src=\"https://colab.research.google.com/assets/colab-badge.svg\" alt=\"Open In Colab\"/></a>"
      ]
    },
    {
      "cell_type": "code",
      "execution_count": 1,
      "metadata": {
        "colab": {
          "base_uri": "https://localhost:8080/"
        },
        "id": "txJ5PIlRlR5B",
        "outputId": "5ef3985f-2688-489c-f4fb-8c9587550097"
      },
      "outputs": [
        {
          "output_type": "stream",
          "name": "stdout",
          "text": [
            "LDA Model Coherence Score: 0.4455634450183593\n"
          ]
        }
      ],
      "source": [
        "import numpy as np\n",
        "from sklearn.datasets import fetch_20newsgroups\n",
        "from sklearn.feature_extraction.text import TfidfVectorizer\n",
        "from sklearn.decomposition import LatentDirichletAllocation\n",
        "from gensim.models import CoherenceModel\n",
        "from gensim.corpora import Dictionary\n",
        "from gensim.utils import simple_preprocess\n",
        "\n",
        "# Fetch the data\n",
        "train_data = fetch_20newsgroups(subset='train', remove=('headers', 'footers', 'quotes'))\n",
        "\n",
        "# Vectorize the data using TF-IDF\n",
        "vectorizer = TfidfVectorizer(stop_words='english')\n",
        "X_train = vectorizer.fit_transform(train_data.data)\n",
        "\n",
        "# Set the number of topics\n",
        "n_topics = 5\n",
        "\n",
        "# Apply LDA\n",
        "lda = LatentDirichletAllocation(n_components=n_topics, random_state=1)\n",
        "lda.fit(X_train)\n",
        "H = lda.components_\n",
        "\n",
        "# Extract the top words for each topic\n",
        "feature_names = vectorizer.get_feature_names_out()\n",
        "top_words = []\n",
        "for topic_idx, topic in enumerate(H):\n",
        "    top_terms = [feature_names[i] for i in topic.argsort()[:-11:-1]]  # Top 10 terms\n",
        "    top_words.append(top_terms)\n",
        "\n",
        "# Prepare the data for Gensim\n",
        "# Convert documents to a list of words (simple tokenization)\n",
        "texts = [simple_preprocess(doc) for doc in train_data.data]\n",
        "\n",
        "# Create a dictionary representation of the documents\n",
        "dictionary = Dictionary(texts)\n",
        "\n",
        "# Convert documents to bag-of-words format\n",
        "corpus = [dictionary.doc2bow(text) for text in texts]\n",
        "\n",
        "# Calculate coherence score\n",
        "coherence_model_lda = CoherenceModel(topics=top_words, texts=texts, dictionary=dictionary, coherence='c_v')\n",
        "coherence_score = coherence_model_lda.get_coherence()\n",
        "\n",
        "print(f\"LDA Model Coherence Score: {coherence_score}\")\n",
        "\n"
      ]
    }
  ]
}