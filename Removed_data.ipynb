{
  "nbformat": 4,
  "nbformat_minor": 0,
  "metadata": {
    "colab": {
      "provenance": [],
      "authorship_tag": "ABX9TyN0TTl62ME6nFt20BgUzRJu",
      "include_colab_link": true
    },
    "kernelspec": {
      "name": "python3",
      "display_name": "Python 3"
    },
    "language_info": {
      "name": "python"
    }
  },
  "cells": [
    {
      "cell_type": "markdown",
      "metadata": {
        "id": "view-in-github",
        "colab_type": "text"
      },
      "source": [
        "<a href=\"https://colab.research.google.com/github/ganeshmukhiya/Topic-Modeling-NMF/blob/main/Removed_data.ipynb\" target=\"_parent\"><img src=\"https://colab.research.google.com/assets/colab-badge.svg\" alt=\"Open In Colab\"/></a>"
      ]
    },
    {
      "cell_type": "code",
      "execution_count": 7,
      "metadata": {
        "id": "h3gwkLKNBWSB"
      },
      "outputs": [],
      "source": [
        "from sklearn.datasets import fetch_20newsgroups\n",
        "from sklearn.feature_extraction.text import TfidfVectorizer\n",
        "from nltk.corpus import stopwords\n",
        "from nltk.tokenize import word_tokenize\n",
        "import nltk\n"
      ]
    },
    {
      "cell_type": "code",
      "source": [
        "# Download NLTK data files (only needed if not already downloaded)\n",
        "nltk.download('punkt')\n",
        "nltk.download('stopwords')"
      ],
      "metadata": {
        "colab": {
          "base_uri": "https://localhost:8080/"
        },
        "id": "6TqBT6E4BeAi",
        "outputId": "82d005a7-0162-4b84-d29f-f674783faace"
      },
      "execution_count": 8,
      "outputs": [
        {
          "output_type": "stream",
          "name": "stderr",
          "text": [
            "[nltk_data] Downloading package punkt to /root/nltk_data...\n",
            "[nltk_data]   Unzipping tokenizers/punkt.zip.\n",
            "[nltk_data] Downloading package stopwords to /root/nltk_data...\n",
            "[nltk_data]   Unzipping corpora/stopwords.zip.\n"
          ]
        },
        {
          "output_type": "execute_result",
          "data": {
            "text/plain": [
              "True"
            ]
          },
          "metadata": {},
          "execution_count": 8
        }
      ]
    },
    {
      "cell_type": "code",
      "source": [
        "# Load the dataset\n",
        "newsgroups = fetch_20newsgroups(subset='all')\n",
        "texts = newsgroups.data"
      ],
      "metadata": {
        "id": "RAbmZgbIBfSl"
      },
      "execution_count": 9,
      "outputs": []
    },
    {
      "cell_type": "code",
      "source": [
        "# Original word count\n",
        "original_vectorizer = TfidfVectorizer()\n",
        "original_word_counts = original_vectorizer.fit_transform(texts)\n",
        "original_word_count = original_word_counts.sum()"
      ],
      "metadata": {
        "id": "6l7algGzBh5T"
      },
      "execution_count": 10,
      "outputs": []
    },
    {
      "cell_type": "code",
      "source": [
        "# Preprocessing: Remove stop words using NLTK\n",
        "stop_words = set(stopwords.words('english'))\n",
        "preprocessed_texts = []\n",
        "for text in texts:\n",
        "    tokens = word_tokenize(text.lower())\n",
        "    filtered_tokens = [word for word in tokens if word.isalpha() and word not in stop_words]\n",
        "    preprocessed_texts.append(' '.join(filtered_tokens))\n"
      ],
      "metadata": {
        "id": "On9EV59oBnQl"
      },
      "execution_count": 11,
      "outputs": []
    },
    {
      "cell_type": "code",
      "source": [
        "# Vectorize preprocessed text\n",
        "preprocessed_vectorizer = TfidfVectorizer()\n",
        "preprocessed_word_counts = preprocessed_vectorizer.fit_transform(preprocessed_texts)\n",
        "preprocessed_word_count = preprocessed_word_counts.sum()"
      ],
      "metadata": {
        "id": "q2dDfeJpBqQy"
      },
      "execution_count": 12,
      "outputs": []
    },
    {
      "cell_type": "code",
      "source": [
        "# Number of words removed\n",
        "words_removed = original_word_count - preprocessed_word_count\n",
        "print(f\"Number of words removed: {words_removed}\")"
      ],
      "metadata": {
        "colab": {
          "base_uri": "https://localhost:8080/"
        },
        "id": "a3xXx_XdCalg",
        "outputId": "d54f5190-bcfe-4f86-f6e6-645bbb32e8e0"
      },
      "execution_count": 13,
      "outputs": [
        {
          "output_type": "stream",
          "name": "stdout",
          "text": [
            "Number of words removed: 31003.5799967864\n"
          ]
        }
      ]
    },
    {
      "cell_type": "code",
      "source": [
        "\n",
        "# Optionally print the number of features (terms) before and after preprocessing\n",
        "print(f\"Original number of features: {original_word_counts.shape[1]}\")\n",
        "print(f\"Number of features after preprocessing: {preprocessed_word_counts.shape[1]}\")"
      ],
      "metadata": {
        "colab": {
          "base_uri": "https://localhost:8080/"
        },
        "id": "opKJyMQMCdLU",
        "outputId": "83608b2d-13c2-4493-fc8c-77bcfefd0252"
      },
      "execution_count": 14,
      "outputs": [
        {
          "output_type": "stream",
          "name": "stdout",
          "text": [
            "Original number of features: 173762\n",
            "Number of features after preprocessing: 93589\n"
          ]
        }
      ]
    }
  ]
}