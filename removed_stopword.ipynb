{
  "nbformat": 4,
  "nbformat_minor": 0,
  "metadata": {
    "colab": {
      "provenance": [],
      "authorship_tag": "ABX9TyPd/vCHagTKJO7MZ1HRdDkL",
      "include_colab_link": true
    },
    "kernelspec": {
      "name": "python3",
      "display_name": "Python 3"
    },
    "language_info": {
      "name": "python"
    }
  },
  "cells": [
    {
      "cell_type": "markdown",
      "metadata": {
        "id": "view-in-github",
        "colab_type": "text"
      },
      "source": [
        "<a href=\"https://colab.research.google.com/github/ganeshmukhiya/Topic-Modeling-NMF/blob/main/removed_stopword.ipynb\" target=\"_parent\"><img src=\"https://colab.research.google.com/assets/colab-badge.svg\" alt=\"Open In Colab\"/></a>"
      ]
    },
    {
      "cell_type": "code",
      "source": [
        "from sklearn.datasets import fetch_20newsgroups\n",
        "from sklearn.feature_extraction.text import TfidfVectorizer\n",
        "from sklearn.decomposition import NMF\n",
        "import re"
      ],
      "metadata": {
        "id": "hpe9hzChoZCP"
      },
      "execution_count": 14,
      "outputs": []
    },
    {
      "cell_type": "code",
      "source": [
        "# Load the dataset\n",
        "newsgroups_train = fetch_20newsgroups(subset='train', remove=('headers', 'footers', 'quotes'))\n"
      ],
      "metadata": {
        "id": "ipXxnx82ohdB"
      },
      "execution_count": 12,
      "outputs": []
    },
    {
      "cell_type": "code",
      "source": [
        "# Define custom stop words with patterns\n",
        "custom_stop_words_patterns = [\n",
        "    r'\\bhd\\b', r'\\bcd\\b', r'\\bscsi\\b', r'\\bhi\\b',\n",
        "    r'\\b(don|just|like|think|know|good|ve|time|people|car)\\b',\n",
        "    r'\\b(card|video|monitor|vga|bus|00|cards|color|drivers|ram)\\b',\n",
        "    r'\\b(god|jesus|bible|believe|faith|christ|christian|christians|does|say)\\b',\n",
        "    r'\\b(geb|dsl|chastity|n3jxp|pitt|cadre|shameful|intellect|skepticism|surrender)\\b',\n",
        "    r'\\b(key|chip|encryption|clipper|keys|government|escrow|algorithm|use|public)\\b',\n",
        "    r'\\b(drive|disk|drives|ide|hard|controller|floppy)\\b',\n",
        "    r'\\b(game|team|games|year|players|season|play|hockey|win|league)\\b',\n",
        "    r'\\b(thanks|mail|advance|info|looking|address|anybody)\\b',\n",
        "    r'\\b(people|israel|government|armenian|jews|israeli|armenians|state|turkish|rights)\\b',\n",
        "    r'\\b(windows|file|dos|window|files|program|using|running|version)\\b'\n",
        "]"
      ],
      "metadata": {
        "id": "SCS_gJT0ojU2"
      },
      "execution_count": 15,
      "outputs": []
    },
    {
      "cell_type": "code",
      "source": [
        "# Preprocess the documents to remove words matching these patterns\n",
        "processed_docs = []\n",
        "for doc in newsgroups_train.data:\n",
        "    for pattern in custom_stop_words_patterns:\n",
        "        doc = re.sub(pattern, '', doc, flags=re.IGNORECASE)\n",
        "    processed_docs.append(doc)"
      ],
      "metadata": {
        "id": "HoqVsEFjpDE7"
      },
      "execution_count": 16,
      "outputs": []
    },
    {
      "cell_type": "code",
      "source": [
        "# Initialize the TF-IDF vectorizer\n",
        "tfidf_vectorizer = TfidfVectorizer(max_df=0.95, min_df=2)"
      ],
      "metadata": {
        "id": "H6Zi0tM4pJhq"
      },
      "execution_count": 17,
      "outputs": []
    },
    {
      "cell_type": "code",
      "source": [
        "# Fit and transform the dataset\n",
        "tfidf = tfidf_vectorizer.fit_transform(processed_docs)"
      ],
      "metadata": {
        "id": "gOfNR7kRpTti"
      },
      "execution_count": 18,
      "outputs": []
    },
    {
      "cell_type": "code",
      "source": [
        "# Fit the NMF model\n",
        "nmf = NMF(n_components=10, random_state=42)\n",
        "nmf.fit(tfidf)"
      ],
      "metadata": {
        "colab": {
          "base_uri": "https://localhost:8080/",
          "height": 74
        },
        "id": "RRBBdawKpXWk",
        "outputId": "03033245-4ee0-447f-8564-96e1205468ec"
      },
      "execution_count": 19,
      "outputs": [
        {
          "output_type": "execute_result",
          "data": {
            "text/plain": [
              "NMF(n_components=10, random_state=42)"
            ],
            "text/html": [
              "<style>#sk-container-id-1 {color: black;}#sk-container-id-1 pre{padding: 0;}#sk-container-id-1 div.sk-toggleable {background-color: white;}#sk-container-id-1 label.sk-toggleable__label {cursor: pointer;display: block;width: 100%;margin-bottom: 0;padding: 0.3em;box-sizing: border-box;text-align: center;}#sk-container-id-1 label.sk-toggleable__label-arrow:before {content: \"▸\";float: left;margin-right: 0.25em;color: #696969;}#sk-container-id-1 label.sk-toggleable__label-arrow:hover:before {color: black;}#sk-container-id-1 div.sk-estimator:hover label.sk-toggleable__label-arrow:before {color: black;}#sk-container-id-1 div.sk-toggleable__content {max-height: 0;max-width: 0;overflow: hidden;text-align: left;background-color: #f0f8ff;}#sk-container-id-1 div.sk-toggleable__content pre {margin: 0.2em;color: black;border-radius: 0.25em;background-color: #f0f8ff;}#sk-container-id-1 input.sk-toggleable__control:checked~div.sk-toggleable__content {max-height: 200px;max-width: 100%;overflow: auto;}#sk-container-id-1 input.sk-toggleable__control:checked~label.sk-toggleable__label-arrow:before {content: \"▾\";}#sk-container-id-1 div.sk-estimator input.sk-toggleable__control:checked~label.sk-toggleable__label {background-color: #d4ebff;}#sk-container-id-1 div.sk-label input.sk-toggleable__control:checked~label.sk-toggleable__label {background-color: #d4ebff;}#sk-container-id-1 input.sk-hidden--visually {border: 0;clip: rect(1px 1px 1px 1px);clip: rect(1px, 1px, 1px, 1px);height: 1px;margin: -1px;overflow: hidden;padding: 0;position: absolute;width: 1px;}#sk-container-id-1 div.sk-estimator {font-family: monospace;background-color: #f0f8ff;border: 1px dotted black;border-radius: 0.25em;box-sizing: border-box;margin-bottom: 0.5em;}#sk-container-id-1 div.sk-estimator:hover {background-color: #d4ebff;}#sk-container-id-1 div.sk-parallel-item::after {content: \"\";width: 100%;border-bottom: 1px solid gray;flex-grow: 1;}#sk-container-id-1 div.sk-label:hover label.sk-toggleable__label {background-color: #d4ebff;}#sk-container-id-1 div.sk-serial::before {content: \"\";position: absolute;border-left: 1px solid gray;box-sizing: border-box;top: 0;bottom: 0;left: 50%;z-index: 0;}#sk-container-id-1 div.sk-serial {display: flex;flex-direction: column;align-items: center;background-color: white;padding-right: 0.2em;padding-left: 0.2em;position: relative;}#sk-container-id-1 div.sk-item {position: relative;z-index: 1;}#sk-container-id-1 div.sk-parallel {display: flex;align-items: stretch;justify-content: center;background-color: white;position: relative;}#sk-container-id-1 div.sk-item::before, #sk-container-id-1 div.sk-parallel-item::before {content: \"\";position: absolute;border-left: 1px solid gray;box-sizing: border-box;top: 0;bottom: 0;left: 50%;z-index: -1;}#sk-container-id-1 div.sk-parallel-item {display: flex;flex-direction: column;z-index: 1;position: relative;background-color: white;}#sk-container-id-1 div.sk-parallel-item:first-child::after {align-self: flex-end;width: 50%;}#sk-container-id-1 div.sk-parallel-item:last-child::after {align-self: flex-start;width: 50%;}#sk-container-id-1 div.sk-parallel-item:only-child::after {width: 0;}#sk-container-id-1 div.sk-dashed-wrapped {border: 1px dashed gray;margin: 0 0.4em 0.5em 0.4em;box-sizing: border-box;padding-bottom: 0.4em;background-color: white;}#sk-container-id-1 div.sk-label label {font-family: monospace;font-weight: bold;display: inline-block;line-height: 1.2em;}#sk-container-id-1 div.sk-label-container {text-align: center;}#sk-container-id-1 div.sk-container {/* jupyter's `normalize.less` sets `[hidden] { display: none; }` but bootstrap.min.css set `[hidden] { display: none !important; }` so we also need the `!important` here to be able to override the default hidden behavior on the sphinx rendered scikit-learn.org. See: https://github.com/scikit-learn/scikit-learn/issues/21755 */display: inline-block !important;position: relative;}#sk-container-id-1 div.sk-text-repr-fallback {display: none;}</style><div id=\"sk-container-id-1\" class=\"sk-top-container\"><div class=\"sk-text-repr-fallback\"><pre>NMF(n_components=10, random_state=42)</pre><b>In a Jupyter environment, please rerun this cell to show the HTML representation or trust the notebook. <br />On GitHub, the HTML representation is unable to render, please try loading this page with nbviewer.org.</b></div><div class=\"sk-container\" hidden><div class=\"sk-item\"><div class=\"sk-estimator sk-toggleable\"><input class=\"sk-toggleable__control sk-hidden--visually\" id=\"sk-estimator-id-1\" type=\"checkbox\" checked><label for=\"sk-estimator-id-1\" class=\"sk-toggleable__label sk-toggleable__label-arrow\">NMF</label><div class=\"sk-toggleable__content\"><pre>NMF(n_components=10, random_state=42)</pre></div></div></div></div></div>"
            ]
          },
          "metadata": {},
          "execution_count": 19
        }
      ]
    },
    {
      "cell_type": "code",
      "source": [
        "# Display the topics and top words\n",
        "for i, topic in enumerate(nmf.components_):\n",
        "    print(f\"Topic #{i+1}:\")\n",
        "    print([tfidf_vectorizer.get_feature_names_out()[index] for index in topic.argsort()[-10:]])"
      ],
      "metadata": {
        "colab": {
          "base_uri": "https://localhost:8080/"
        },
        "id": "_5ZTqHUGpc8r",
        "outputId": "d7c23a66-4661-486b-95ca-61cb9c5521b3"
      },
      "execution_count": 20,
      "outputs": [
        {
          "output_type": "stream",
          "name": "stdout",
          "text": [
            "Topic #1:\n",
            "['no', 'as', 'are', 'what', 'the', 'there', 'this', 'not', 'that', 'is']\n",
            "Topic #2:\n",
            "['that', 'have', 'what', 'are', 're', 'can', 'do', 'if', 'your', 'you']\n",
            "Topic #3:\n",
            "['is', 'sale', 'or', 'new', 'software', 'system', 'at', 'with', 'and', 'for']\n",
            "Topic #4:\n",
            "['but', 'said', 'in', 'had', 'that', 'and', 'him', 'was', 'his', 'he']\n",
            "Topic #5:\n",
            "['by', 'when', 'same', 'first', 'at', 'from', 'was', 'in', 'on', 'the']\n",
            "Topic #6:\n",
            "['one', 'their', 'who', 'are', 'as', 'by', 'the', 'in', 'and', 'of']\n",
            "Topic #7:\n",
            "['we', 'as', 'want', 'this', 'do', 'have', 'will', 'would', 'be', 'to']\n",
            "Topic #8:\n",
            "['in', 'have', 'were', 'them', 'their', 'we', 'and', 'are', 'that', 'they']\n",
            "Topic #9:\n",
            "['have', 'can', 'this', 'or', 'am', 'if', 'please', 'anyone', 'any', 'me']\n",
            "Topic #10:\n",
            "['soon', 'about', 'on', 'too', 'with', 'was', 'but', 'and', 'my', 'it']\n"
          ]
        }
      ]
    },
    {
      "cell_type": "code",
      "source": [],
      "metadata": {
        "id": "7ML6KOYfERjh"
      },
      "execution_count": null,
      "outputs": []
    }
  ]
}