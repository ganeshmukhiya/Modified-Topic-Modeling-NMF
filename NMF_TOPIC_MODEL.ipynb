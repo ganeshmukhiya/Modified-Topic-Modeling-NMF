{
  "nbformat": 4,
  "nbformat_minor": 0,
  "metadata": {
    "colab": {
      "provenance": [],
      "authorship_tag": "ABX9TyPj4SwXKgZ2VrVsDq3kRK6K",
      "include_colab_link": true
    },
    "kernelspec": {
      "name": "python3",
      "display_name": "Python 3"
    },
    "language_info": {
      "name": "python"
    }
  },
  "cells": [
    {
      "cell_type": "markdown",
      "metadata": {
        "id": "view-in-github",
        "colab_type": "text"
      },
      "source": [
        "<a href=\"https://colab.research.google.com/github/ganeshmukhiya/Topic-Modeling-NMF/blob/main/NMF_TOPIC_MODEL.ipynb\" target=\"_parent\"><img src=\"https://colab.research.google.com/assets/colab-badge.svg\" alt=\"Open In Colab\"/></a>"
      ]
    },
    {
      "cell_type": "code",
      "execution_count": 9,
      "metadata": {
        "id": "u3VntKswRvXy"
      },
      "outputs": [],
      "source": [
        "import numpy as np\n",
        "from sklearn.datasets import fetch_20newsgroups\n",
        "from sklearn.feature_extraction.text import TfidfVectorizer\n",
        "from sklearn.decomposition import NMF"
      ]
    },
    {
      "cell_type": "code",
      "source": [
        "# Fetch the data\n",
        "train_data = fetch_20newsgroups(subset='train', remove=('headers', 'footers', 'quotes'))"
      ],
      "metadata": {
        "id": "0RpIwaQUR1SF"
      },
      "execution_count": 2,
      "outputs": []
    },
    {
      "cell_type": "code",
      "source": [
        "# Example: View initial raw data\n",
        "print(\"Raw Text Data Example:\")\n",
        "print(train_data.data[0])"
      ],
      "metadata": {
        "colab": {
          "base_uri": "https://localhost:8080/"
        },
        "id": "d_QIoPPoSBUG",
        "outputId": "c9c15b78-9db9-41c1-cc19-0c7b8b637dcf"
      },
      "execution_count": 3,
      "outputs": [
        {
          "output_type": "stream",
          "name": "stdout",
          "text": [
            "Raw Text Data Example:\n",
            "I was wondering if anyone out there could enlighten me on this car I saw\n",
            "the other day. It was a 2-door sports car, looked to be from the late 60s/\n",
            "early 70s. It was called a Bricklin. The doors were really small. In addition,\n",
            "the front bumper was separate from the rest of the body. This is \n",
            "all I know. If anyone can tellme a model name, engine specs, years\n",
            "of production, where this car is made, history, or whatever info you\n",
            "have on this funky looking car, please e-mail.\n"
          ]
        }
      ]
    },
    {
      "cell_type": "code",
      "source": [
        "# Text Preprocessing: Cleaned text (you can implement additional custom preprocessing)\n",
        "vectorizer = TfidfVectorizer(stop_words='english', lowercase=True)\n",
        "X_train = vectorizer.fit_transform(train_data.data)"
      ],
      "metadata": {
        "id": "ebTYAe_ZSF71"
      },
      "execution_count": 4,
      "outputs": []
    },
    {
      "cell_type": "code",
      "source": [
        "# Example: View a sample of the TF-IDF matrix\n",
        "print(\"\\nTF-IDF Matrix Shape:\", X_train.shape)\n",
        "print(\"TF-IDF Matrix Sample (First Document):\")\n",
        "print(X_train[0])"
      ],
      "metadata": {
        "colab": {
          "base_uri": "https://localhost:8080/"
        },
        "id": "HTh410F4STk4",
        "outputId": "6ebb05f6-1d63-4348-d439-f48ab82b9abb"
      },
      "execution_count": 5,
      "outputs": [
        {
          "output_type": "stream",
          "name": "stdout",
          "text": [
            "\n",
            "TF-IDF Matrix Shape: (11314, 101322)\n",
            "TF-IDF Matrix Sample (First Document):\n",
            "  (0, 59071)\t0.10043853867312116\n",
            "  (0, 57250)\t0.1063473585616558\n",
            "  (0, 41874)\t0.224548896412017\n",
            "  (0, 49800)\t0.11869932893481257\n",
            "  (0, 46690)\t0.12504220873599214\n",
            "  (0, 73174)\t0.16142029533900565\n",
            "  (0, 99608)\t0.09418459052541318\n",
            "  (0, 84050)\t0.16329311028814825\n",
            "  (0, 37208)\t0.1434127293323407\n",
            "  (0, 62594)\t0.13037295035007848\n",
            "  (0, 87913)\t0.25808578247347563\n",
            "  (0, 54493)\t0.06961997844491917\n",
            "  (0, 23430)\t0.12937103288512333\n",
            "  (0, 77676)\t0.12197186951739486\n",
            "  (0, 81450)\t0.1461308934288897\n",
            "  (0, 24583)\t0.19644480500804062\n",
            "  (0, 16806)\t0.1407774554706102\n",
            "  (0, 83208)\t0.11339406589538423\n",
            "  (0, 76269)\t0.08978258481915573\n",
            "  (0, 34742)\t0.17300821242559045\n",
            "  (0, 24108)\t0.24723134514216435\n",
            "  (0, 25437)\t0.10548299054214269\n",
            "  (0, 11174)\t0.20599311323287353\n",
            "  (0, 35902)\t0.1266709604197344\n",
            "  (0, 9843)\t0.20797700857530224\n",
            "  (0, 55606)\t0.13822596989753821\n",
            "  (0, 57247)\t0.1352084247105906\n",
            "  (0, 84312)\t0.16368392505928514\n",
            "  (0, 34741)\t0.14847880131844235\n",
            "  (0, 31927)\t0.10526008886822914\n",
            "  (0, 80420)\t0.127069039671221\n",
            "  (0, 25717)\t0.46579831435138974\n",
            "  (0, 37256)\t0.20599311323287353\n",
            "  (0, 96879)\t0.13703598126117264\n"
          ]
        }
      ]
    },
    {
      "cell_type": "code",
      "source": [
        "# Apply NMF\n",
        "nmf = NMF(n_components=20, random_state=1)\n",
        "W_train = nmf.fit_transform(X_train)\n",
        "H = nmf.components_"
      ],
      "metadata": {
        "id": "6E6iPb-0SXBR"
      },
      "execution_count": 6,
      "outputs": []
    },
    {
      "cell_type": "code",
      "source": [
        "# Example: View the W matrix (Document-Topic Matrix)\n",
        "print(\"\\nW Matrix Shape:\", W_train.shape)\n",
        "print(\"W Matrix Sample (First Document):\")\n",
        "print(W_train[0])"
      ],
      "metadata": {
        "colab": {
          "base_uri": "https://localhost:8080/"
        },
        "id": "yw5BUQ3vSiWI",
        "outputId": "57d31291-6f6f-4b80-aecf-64c2c8a17bd1"
      },
      "execution_count": 7,
      "outputs": [
        {
          "output_type": "stream",
          "name": "stdout",
          "text": [
            "\n",
            "W Matrix Shape: (11314, 20)\n",
            "W Matrix Sample (First Document):\n",
            "[0.         0.         0.         0.         0.         0.\n",
            " 0.         0.03227418 0.1458308  0.         0.         0.\n",
            " 0.         0.00085594 0.01571497 0.         0.         0.\n",
            " 0.         0.        ]\n"
          ]
        }
      ]
    },
    {
      "cell_type": "code",
      "source": [
        "# Example: View the H matrix (Topic-Term Matrix)\n",
        "print(\"\\nH Matrix Shape:\", H.shape)\n",
        "print(\"H Matrix Sample (First Topic):\")\n",
        "print(H[0])"
      ],
      "metadata": {
        "colab": {
          "base_uri": "https://localhost:8080/"
        },
        "id": "5186D-pkSput",
        "outputId": "420b3c4b-8d7b-426d-cd99-180c9bc662ac"
      },
      "execution_count": 8,
      "outputs": [
        {
          "output_type": "stream",
          "name": "stdout",
          "text": [
            "\n",
            "H Matrix Shape: (20, 101322)\n",
            "H Matrix Sample (First Topic):\n",
            "[0. 0. 0. ... 0. 0. 0.]\n"
          ]
        }
      ]
    },
    {
      "cell_type": "code",
      "source": [
        "# Assume X_train is the TF-IDF matrix obtained from preprocessing\n",
        "# Set the number of topics\n",
        "n_topics = 20"
      ],
      "metadata": {
        "id": "gi_aZivgTKrH"
      },
      "execution_count": 10,
      "outputs": []
    },
    {
      "cell_type": "code",
      "source": [
        "# Apply NMF\n",
        "nmf = NMF(n_components=n_topics, random_state=1)\n",
        "W_train = nmf.fit_transform(X_train)\n",
        "H = nmf.components_"
      ],
      "metadata": {
        "id": "uPhcym5wTYr9"
      },
      "execution_count": 11,
      "outputs": []
    },
    {
      "cell_type": "code",
      "source": [
        "# Display the top words for each topic\n",
        "feature_names = vectorizer.get_feature_names_out()\n",
        "\n",
        "for topic_idx, topic in enumerate(H):\n",
        "    top_terms = [feature_names[i] for i in topic.argsort()[:-11:-1]]  # Top 10 terms\n",
        "    print(f\"Topic #{topic_idx+1}: {', '.join(top_terms)}\")"
      ],
      "metadata": {
        "colab": {
          "base_uri": "https://localhost:8080/"
        },
        "id": "F9PGP4tgTj7n",
        "outputId": "5e84bf24-52b5-4381-80a9-afa317b9c2d9"
      },
      "execution_count": 13,
      "outputs": [
        {
          "output_type": "stream",
          "name": "stdout",
          "text": [
            "Topic #1: just, don, like, think, ve, good, really, time, say, ll\n",
            "Topic #2: use, mac, software, apple, modem, port, memory, pc, printer, used\n",
            "Topic #3: god, jesus, bible, believe, faith, christ, christian, christians, church, life\n",
            "Topic #4: geb, dsl, n3jxp, chastity, pitt, cadre, shameful, intellect, skepticism, surrender\n",
            "Topic #5: key, chip, encryption, clipper, keys, escrow, algorithm, government, secure, security\n",
            "Topic #6: drive, disk, hard, drives, floppy, boot, ide, cd, controller, hd\n",
            "Topic #7: game, team, games, year, players, season, play, hockey, win, league\n",
            "Topic #8: thanks, mail, advance, hi, looking, address, info, email, send, post\n",
            "Topic #9: car, bike, cars, engine, new, miles, dealer, good, insurance, price\n",
            "Topic #10: card, video, monitor, vga, drivers, cards, bus, color, driver, ati\n",
            "Topic #11: people, government, gun, law, right, guns, state, rights, crime, make\n",
            "Topic #12: windows, dos, ms, running, os, version, microsoft, nt, drivers, driver\n",
            "Topic #13: window, motif, server, application, manager, problem, display, widget, screen, using\n",
            "Topic #14: armenian, armenians, turkish, genocide, armenia, turkey, turks, said, soviet, muslim\n",
            "Topic #15: does, know, anybody, appreciated, mean, doesn, help, exist, program, let\n",
            "Topic #16: israel, israeli, jews, arab, arabs, lebanese, jewish, lebanon, peace, israelis\n",
            "Topic #17: 00, sale, 10, 50, shipping, 20, new, price, 15, offer\n",
            "Topic #18: scsi, ide, controller, bus, isa, bit, pc, dma, devices, chip\n",
            "Topic #19: file, files, ftp, program, directory, zip, edu, format, image, gif\n",
            "Topic #20: space, nasa, shuttle, launch, orbit, moon, earth, station, lunar, sci\n"
          ]
        }
      ]
    },
    {
      "cell_type": "code",
      "source": [
        "# Assign topics to documents\n",
        "# Display the most dominant topic for the first document\n",
        "document_topic_distribution = W_train[0]\n",
        "dominant_topic = np.argmax(document_topic_distribution)\n",
        "print(f\"\\nDocument 1 is most associated with Topic #{dominant_topic+1}\")"
      ],
      "metadata": {
        "colab": {
          "base_uri": "https://localhost:8080/"
        },
        "id": "LmW19_hVTuTg",
        "outputId": "90d96465-afc8-4728-fce5-44f8974dad80"
      },
      "execution_count": 14,
      "outputs": [
        {
          "output_type": "stream",
          "name": "stdout",
          "text": [
            "\n",
            "Document 1 is most associated with Topic #9\n"
          ]
        }
      ]
    }
  ]
}