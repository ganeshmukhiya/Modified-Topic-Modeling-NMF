{
  "nbformat": 4,
  "nbformat_minor": 0,
  "metadata": {
    "colab": {
      "provenance": [],
      "authorship_tag": "ABX9TyONLBy0xqzjpKOFG+0+syQ0",
      "include_colab_link": true
    },
    "kernelspec": {
      "name": "python3",
      "display_name": "Python 3"
    },
    "language_info": {
      "name": "python"
    }
  },
  "cells": [
    {
      "cell_type": "markdown",
      "metadata": {
        "id": "view-in-github",
        "colab_type": "text"
      },
      "source": [
        "<a href=\"https://colab.research.google.com/github/ganeshmukhiya/Modified-Topic-Modeling-NMF/blob/main/reconstructionerror.ipynb\" target=\"_parent\"><img src=\"https://colab.research.google.com/assets/colab-badge.svg\" alt=\"Open In Colab\"/></a>"
      ]
    },
    {
      "cell_type": "code",
      "execution_count": 2,
      "metadata": {
        "colab": {
          "base_uri": "https://localhost:8080/"
        },
        "id": "mlsOqExKfU9G",
        "outputId": "2b24806d-8d66-4e87-c41f-57ac423476d9"
      },
      "outputs": [
        {
          "output_type": "stream",
          "name": "stdout",
          "text": [
            "violation: 1.0\n",
            "violation: 0.9104596055111592\n",
            "violation: 0.8512638033969926\n",
            "violation: 0.594795551819219\n",
            "violation: 0.37095122302987493\n",
            "violation: 0.2454110995741524\n",
            "violation: 0.17511535171009504\n",
            "violation: 0.1382210509264045\n",
            "violation: 0.11906021782941552\n",
            "violation: 0.10679301033532322\n",
            "violation: 0.0996914056668915\n",
            "violation: 0.09629111059499255\n",
            "violation: 0.09258119957294764\n",
            "violation: 0.08528715859437795\n",
            "violation: 0.07806957618688158\n",
            "violation: 0.07060820242588753\n",
            "violation: 0.06317584717992362\n",
            "violation: 0.055843860451502754\n",
            "violation: 0.049234249065525315\n",
            "violation: 0.04331914977959571\n"
          ]
        },
        {
          "output_type": "stream",
          "name": "stderr",
          "text": [
            "/usr/local/lib/python3.10/dist-packages/sklearn/decomposition/_nmf.py:1710: ConvergenceWarning: Maximum number of iterations 20 reached. Increase it to improve convergence.\n",
            "  warnings.warn(\n"
          ]
        },
        {
          "output_type": "stream",
          "name": "stdout",
          "text": [
            "violation: 1.0\n",
            "violation: 0.2774490420404147\n",
            "violation: 0.02384292081477124\n",
            "violation: 0.0040950552951743435\n",
            "violation: 0.0006293085716596298\n",
            "violation: 9.488354634996252e-05\n",
            "Converged at iteration 7\n",
            "Final Training Reconstruction Error: 118.98206728512622\n",
            "Final Validation Reconstruction Error: 59.55070260369348\n"
          ]
        }
      ],
      "source": [
        "import numpy as np\n",
        "import matplotlib.pyplot as plt\n",
        "from sklearn.decomposition import NMF\n",
        "from sklearn.datasets import fetch_20newsgroups\n",
        "from sklearn.feature_extraction.text import TfidfVectorizer\n",
        "from sklearn.model_selection import train_test_split\n",
        "\n",
        "# Load the 20 newsgroups dataset\n",
        "newsgroups = fetch_20newsgroups(subset='all', remove=('headers', 'footers', 'quotes'))\n",
        "\n",
        "# Vectorize the dataset using TF-IDF\n",
        "vectorizer = TfidfVectorizer(stop_words='english', max_features=5000)\n",
        "V = vectorizer.fit_transform(newsgroups.data)\n",
        "\n",
        "# Split data into training and validation sets\n",
        "V_train, V_val = train_test_split(V, test_size=0.2, random_state=42)\n",
        "\n",
        "# Define the number of topics and maximum iterations (epochs)\n",
        "num_topics = 5\n",
        "max_epochs = 20\n",
        "\n",
        "# Initialize the NMF model with verbose to track the error\n",
        "nmf_model = NMF(n_components=num_topics, init='random', random_state=42, max_iter=max_epochs, verbose=True)\n",
        "\n",
        "# Fit the model to the training data\n",
        "W_train = nmf_model.fit_transform(V_train)\n",
        "H_train = nmf_model.components_\n",
        "\n",
        "# Compute reconstruction error for training data\n",
        "V_train_reconstructed = np.dot(W_train, H_train)\n",
        "train_error = np.linalg.norm(V_train - V_train_reconstructed, ord='fro')\n",
        "\n",
        "# Apply the model to the validation data\n",
        "W_val = nmf_model.transform(V_val)\n",
        "V_val_reconstructed = np.dot(W_val, H_train)\n",
        "\n",
        "# Compute reconstruction error for validation data\n",
        "val_error = np.linalg.norm(V_val - V_val_reconstructed, ord='fro')\n",
        "\n",
        "# Output final reconstruction errors\n",
        "print(f\"Final Training Reconstruction Error: {train_error}\")\n",
        "print(f\"Final Validation Reconstruction Error: {val_error}\")\n"
      ]
    },
    {
      "cell_type": "code",
      "source": [
        "# Increasing max_iter and using different initialization\n",
        "nmf_model = NMF(n_components=num_topics, init='nndsvda', max_iter=100, random_state=42, verbose=True)\n",
        "\n",
        "# Fit the model\n",
        "W_train = nmf_model.fit_transform(V_train)\n",
        "H_train = nmf_model.components_\n",
        "\n",
        "# Compute errors again\n",
        "train_error = np.linalg.norm(V_train - np.dot(W_train, H_train), ord='fro')\n",
        "W_val = nmf_model.transform(V_val)\n",
        "val_error = np.linalg.norm(V_val - np.dot(W_val, H_train), ord='fro')\n",
        "\n",
        "print(f\"Final Training Reconstruction Error: {train_error}\")\n",
        "print(f\"Final Validation Reconstruction Error: {val_error}\")\n"
      ],
      "metadata": {
        "colab": {
          "base_uri": "https://localhost:8080/"
        },
        "id": "kk4Rq7uEhAB2",
        "outputId": "19c2b2ee-7e87-4480-d80c-12d893aba58a"
      },
      "execution_count": 3,
      "outputs": [
        {
          "output_type": "stream",
          "name": "stdout",
          "text": [
            "violation: 1.0\n",
            "violation: 0.26253146339544836\n",
            "violation: 0.13513878465643067\n",
            "violation: 0.07952720389481674\n",
            "violation: 0.057121055405217176\n",
            "violation: 0.04579434628394602\n",
            "violation: 0.039520970923553896\n",
            "violation: 0.036213965622957964\n",
            "violation: 0.03496902677902167\n",
            "violation: 0.034664709089856686\n",
            "violation: 0.034088625764023016\n",
            "violation: 0.03201048689024987\n",
            "violation: 0.028202371422756063\n",
            "violation: 0.023198357226536508\n",
            "violation: 0.017955886965100355\n",
            "violation: 0.01357680829811485\n",
            "violation: 0.010383480131393534\n",
            "violation: 0.008046121203591713\n",
            "violation: 0.006399184235507581\n",
            "violation: 0.005215878950855874\n",
            "violation: 0.00435189878407409\n",
            "violation: 0.0037161728328996327\n",
            "violation: 0.0032448640906185618\n",
            "violation: 0.0028885156276621787\n",
            "violation: 0.002614067485241919\n",
            "violation: 0.002398833990203749\n",
            "violation: 0.002228472466260912\n",
            "violation: 0.0020877624540279528\n",
            "violation: 0.001966845073402762\n",
            "violation: 0.0018606318254412754\n",
            "violation: 0.0017653818608330402\n",
            "violation: 0.0016779527200703288\n",
            "violation: 0.0015964910637205445\n",
            "violation: 0.001518033573942926\n",
            "violation: 0.0014349317732599719\n",
            "violation: 0.0013330961171617933\n",
            "violation: 0.0012298207415189822\n",
            "violation: 0.0011297551360052672\n",
            "violation: 0.0010434091348481707\n",
            "violation: 0.0009709321346856681\n",
            "violation: 0.000908350964520328\n",
            "violation: 0.0008529709480678544\n",
            "violation: 0.0008029280762906838\n",
            "violation: 0.0007575530840498088\n",
            "violation: 0.0007161178399349364\n",
            "violation: 0.0006782638353777736\n",
            "violation: 0.0006428966503970271\n",
            "violation: 0.0006099702380951972\n",
            "violation: 0.0005789568981302971\n",
            "violation: 0.0005498221330347872\n",
            "violation: 0.0005224021217455553\n",
            "violation: 0.0004962533101083643\n",
            "violation: 0.0004715167643759579\n",
            "violation: 0.00044799810959126474\n",
            "violation: 0.00042575191034239005\n",
            "violation: 0.0004044181686600065\n",
            "violation: 0.0003841957403984583\n",
            "violation: 0.00036493353821722975\n",
            "violation: 0.00034666481124540234\n",
            "violation: 0.00032931952209402763\n",
            "violation: 0.00031283504311963375\n",
            "violation: 0.0002971470641769898\n",
            "violation: 0.0002822271851464269\n",
            "violation: 0.00026807858101991056\n",
            "violation: 0.00025464631622364257\n",
            "violation: 0.0002418854549031932\n",
            "violation: 0.00022977450293216895\n",
            "violation: 0.0002182254966790035\n",
            "violation: 0.0002072139653728976\n",
            "violation: 0.000196779023320237\n",
            "violation: 0.0001868755152004172\n",
            "violation: 0.00017747282898688006\n",
            "violation: 0.0001685411873765841\n",
            "violation: 0.00016008770266081097\n",
            "violation: 0.00015212007204283117\n",
            "violation: 0.0001445730375283544\n",
            "violation: 0.00013741735201003565\n",
            "violation: 0.0001305771206653776\n",
            "violation: 0.00012410765420018825\n",
            "violation: 0.00011795183433550587\n",
            "violation: 0.00011208625738609144\n",
            "violation: 0.00010649644635047324\n",
            "violation: 0.0001011905947345239\n",
            "violation: 9.614843956764078e-05\n",
            "Converged at iteration 85\n",
            "violation: 1.0\n",
            "violation: 0.2156821505239985\n",
            "violation: 0.01669736135083171\n",
            "violation: 0.001865261813589564\n",
            "violation: 0.00024460914088424103\n",
            "violation: 2.9406947377112305e-05\n",
            "Converged at iteration 7\n",
            "Final Training Reconstruction Error: 118.9401692427825\n",
            "Final Validation Reconstruction Error: 59.510839749182395\n"
          ]
        }
      ]
    },
    {
      "cell_type": "code",
      "source": [
        "import numpy as np\n",
        "import matplotlib.pyplot as plt\n",
        "from sklearn.decomposition import NMF\n",
        "from sklearn.datasets import fetch_20newsgroups\n",
        "from sklearn.feature_extraction.text import TfidfVectorizer\n",
        "from sklearn.model_selection import train_test_split\n",
        "\n",
        "# Load the 20 newsgroups dataset\n",
        "newsgroups = fetch_20newsgroups(subset='all', remove=('headers', 'footers', 'quotes'))\n",
        "\n",
        "# Vectorize the dataset using TF-IDF\n",
        "vectorizer = TfidfVectorizer(stop_words='english', max_features=5000)\n",
        "V = vectorizer.fit_transform(newsgroups.data)\n",
        "\n",
        "# Split data into training and validation sets\n",
        "V_train, V_val = train_test_split(V, test_size=0.2, random_state=42)\n",
        "\n",
        "# Define the number of topics and maximum iterations (epochs)\n",
        "num_topics = 5\n",
        "max_epochs = 20\n",
        "\n",
        "# Initialize the NMF model\n",
        "nmf_model = NMF(n_components=num_topics, init='nndsvda', random_state=42, max_iter=1, solver='mu', beta_loss='frobenius')\n",
        "\n",
        "# Lists to store the reconstruction error for each epoch\n",
        "train_errors = []\n",
        "val_errors = []\n",
        "\n",
        "# Training loop for multiple epochs\n",
        "for epoch in range(max_epochs):\n",
        "    # Perform a single iteration (epoch) of NMF\n",
        "    W_train = nmf_model.fit_transform(V_train)\n",
        "    H_train = nmf_model.components_\n",
        "\n",
        "    # Compute the reconstruction error for training data\n",
        "    V_train_reconstructed = np.dot(W_train, H_train)\n",
        "    train_error = np.linalg.norm(V_train - V_train_reconstructed, ord='fro')\n",
        "    train_errors.append(train_error)\n",
        "\n",
        "    # Compute the reconstruction error for validation data\n",
        "    W_val = nmf_model.transform(V_val)\n",
        "    V_val_reconstructed = np.dot(W_val, H_train)\n",
        "    val_error = np.linalg.norm(V_val - V_val_reconstructed, ord='fro')\n",
        "    val_errors.append(val_error)\n",
        "\n",
        "    print(f\"Epoch {epoch+1}/{max_epochs} - Training Error: {train_error}, Validation Error: {val_error}\")\n",
        "\n",
        "# Plotting the reconstruction error over epochs\n",
        "plt.figure(figsize=(10, 6))\n",
        "plt.plot(range(1, max_epochs+1), train_errors, label='Training Reconstruction Error', color='b')\n",
        "plt.plot(range(1, max_epochs+1), val_errors, label='Validation Reconstruction Error', color='r')\n",
        "plt.xlabel('Epochs')\n",
        "plt.ylabel('Reconstruction Error')\n",
        "plt.title('Reconstruction Error over Epochs for NMF')\n",
        "plt.legend()\n",
        "plt.grid(True)\n",
        "plt.show()\n"
      ],
      "metadata": {
        "colab": {
          "base_uri": "https://localhost:8080/",
          "height": 1000
        },
        "id": "GPS7ng_AhQSa",
        "outputId": "c0387f3c-6904-4f13-ad21-6dcaf84b7e86"
      },
      "execution_count": 5,
      "outputs": [
        {
          "output_type": "stream",
          "name": "stderr",
          "text": [
            "/usr/local/lib/python3.10/dist-packages/sklearn/decomposition/_nmf.py:1710: ConvergenceWarning: Maximum number of iterations 1 reached. Increase it to improve convergence.\n",
            "  warnings.warn(\n"
          ]
        },
        {
          "output_type": "stream",
          "name": "stdout",
          "text": [
            "Epoch 1/20 - Training Error: 119.19146408671179, Validation Error: 59.7204321014652\n"
          ]
        },
        {
          "output_type": "stream",
          "name": "stderr",
          "text": [
            "/usr/local/lib/python3.10/dist-packages/sklearn/decomposition/_nmf.py:1710: ConvergenceWarning: Maximum number of iterations 1 reached. Increase it to improve convergence.\n",
            "  warnings.warn(\n"
          ]
        },
        {
          "output_type": "stream",
          "name": "stdout",
          "text": [
            "Epoch 2/20 - Training Error: 119.19146408671179, Validation Error: 59.7204321014652\n"
          ]
        },
        {
          "output_type": "stream",
          "name": "stderr",
          "text": [
            "/usr/local/lib/python3.10/dist-packages/sklearn/decomposition/_nmf.py:1710: ConvergenceWarning: Maximum number of iterations 1 reached. Increase it to improve convergence.\n",
            "  warnings.warn(\n"
          ]
        },
        {
          "output_type": "stream",
          "name": "stdout",
          "text": [
            "Epoch 3/20 - Training Error: 119.19146408671179, Validation Error: 59.7204321014652\n"
          ]
        },
        {
          "output_type": "stream",
          "name": "stderr",
          "text": [
            "/usr/local/lib/python3.10/dist-packages/sklearn/decomposition/_nmf.py:1710: ConvergenceWarning: Maximum number of iterations 1 reached. Increase it to improve convergence.\n",
            "  warnings.warn(\n"
          ]
        },
        {
          "output_type": "stream",
          "name": "stdout",
          "text": [
            "Epoch 4/20 - Training Error: 119.19146408671179, Validation Error: 59.7204321014652\n"
          ]
        },
        {
          "output_type": "stream",
          "name": "stderr",
          "text": [
            "/usr/local/lib/python3.10/dist-packages/sklearn/decomposition/_nmf.py:1710: ConvergenceWarning: Maximum number of iterations 1 reached. Increase it to improve convergence.\n",
            "  warnings.warn(\n"
          ]
        },
        {
          "output_type": "stream",
          "name": "stdout",
          "text": [
            "Epoch 5/20 - Training Error: 119.19146408671179, Validation Error: 59.7204321014652\n"
          ]
        },
        {
          "output_type": "stream",
          "name": "stderr",
          "text": [
            "/usr/local/lib/python3.10/dist-packages/sklearn/decomposition/_nmf.py:1710: ConvergenceWarning: Maximum number of iterations 1 reached. Increase it to improve convergence.\n",
            "  warnings.warn(\n"
          ]
        },
        {
          "output_type": "stream",
          "name": "stdout",
          "text": [
            "Epoch 6/20 - Training Error: 119.19146408671179, Validation Error: 59.7204321014652\n"
          ]
        },
        {
          "output_type": "stream",
          "name": "stderr",
          "text": [
            "/usr/local/lib/python3.10/dist-packages/sklearn/decomposition/_nmf.py:1710: ConvergenceWarning: Maximum number of iterations 1 reached. Increase it to improve convergence.\n",
            "  warnings.warn(\n"
          ]
        },
        {
          "output_type": "stream",
          "name": "stdout",
          "text": [
            "Epoch 7/20 - Training Error: 119.19146408671179, Validation Error: 59.7204321014652\n"
          ]
        },
        {
          "output_type": "stream",
          "name": "stderr",
          "text": [
            "/usr/local/lib/python3.10/dist-packages/sklearn/decomposition/_nmf.py:1710: ConvergenceWarning: Maximum number of iterations 1 reached. Increase it to improve convergence.\n",
            "  warnings.warn(\n"
          ]
        },
        {
          "output_type": "stream",
          "name": "stdout",
          "text": [
            "Epoch 8/20 - Training Error: 119.19146408671179, Validation Error: 59.7204321014652\n"
          ]
        },
        {
          "output_type": "stream",
          "name": "stderr",
          "text": [
            "/usr/local/lib/python3.10/dist-packages/sklearn/decomposition/_nmf.py:1710: ConvergenceWarning: Maximum number of iterations 1 reached. Increase it to improve convergence.\n",
            "  warnings.warn(\n"
          ]
        },
        {
          "output_type": "stream",
          "name": "stdout",
          "text": [
            "Epoch 9/20 - Training Error: 119.19146408671179, Validation Error: 59.7204321014652\n"
          ]
        },
        {
          "output_type": "stream",
          "name": "stderr",
          "text": [
            "/usr/local/lib/python3.10/dist-packages/sklearn/decomposition/_nmf.py:1710: ConvergenceWarning: Maximum number of iterations 1 reached. Increase it to improve convergence.\n",
            "  warnings.warn(\n"
          ]
        },
        {
          "output_type": "stream",
          "name": "stdout",
          "text": [
            "Epoch 10/20 - Training Error: 119.19146408671179, Validation Error: 59.7204321014652\n"
          ]
        },
        {
          "output_type": "stream",
          "name": "stderr",
          "text": [
            "/usr/local/lib/python3.10/dist-packages/sklearn/decomposition/_nmf.py:1710: ConvergenceWarning: Maximum number of iterations 1 reached. Increase it to improve convergence.\n",
            "  warnings.warn(\n"
          ]
        },
        {
          "output_type": "stream",
          "name": "stdout",
          "text": [
            "Epoch 11/20 - Training Error: 119.19146408671179, Validation Error: 59.7204321014652\n"
          ]
        },
        {
          "output_type": "stream",
          "name": "stderr",
          "text": [
            "/usr/local/lib/python3.10/dist-packages/sklearn/decomposition/_nmf.py:1710: ConvergenceWarning: Maximum number of iterations 1 reached. Increase it to improve convergence.\n",
            "  warnings.warn(\n"
          ]
        },
        {
          "output_type": "stream",
          "name": "stdout",
          "text": [
            "Epoch 12/20 - Training Error: 119.19146408671179, Validation Error: 59.7204321014652\n"
          ]
        },
        {
          "output_type": "stream",
          "name": "stderr",
          "text": [
            "/usr/local/lib/python3.10/dist-packages/sklearn/decomposition/_nmf.py:1710: ConvergenceWarning: Maximum number of iterations 1 reached. Increase it to improve convergence.\n",
            "  warnings.warn(\n"
          ]
        },
        {
          "output_type": "stream",
          "name": "stdout",
          "text": [
            "Epoch 13/20 - Training Error: 119.19146408671179, Validation Error: 59.7204321014652\n"
          ]
        },
        {
          "output_type": "stream",
          "name": "stderr",
          "text": [
            "/usr/local/lib/python3.10/dist-packages/sklearn/decomposition/_nmf.py:1710: ConvergenceWarning: Maximum number of iterations 1 reached. Increase it to improve convergence.\n",
            "  warnings.warn(\n"
          ]
        },
        {
          "output_type": "stream",
          "name": "stdout",
          "text": [
            "Epoch 14/20 - Training Error: 119.19146408671179, Validation Error: 59.7204321014652\n"
          ]
        },
        {
          "output_type": "stream",
          "name": "stderr",
          "text": [
            "/usr/local/lib/python3.10/dist-packages/sklearn/decomposition/_nmf.py:1710: ConvergenceWarning: Maximum number of iterations 1 reached. Increase it to improve convergence.\n",
            "  warnings.warn(\n"
          ]
        },
        {
          "output_type": "stream",
          "name": "stdout",
          "text": [
            "Epoch 15/20 - Training Error: 119.19146408671179, Validation Error: 59.7204321014652\n"
          ]
        },
        {
          "output_type": "stream",
          "name": "stderr",
          "text": [
            "/usr/local/lib/python3.10/dist-packages/sklearn/decomposition/_nmf.py:1710: ConvergenceWarning: Maximum number of iterations 1 reached. Increase it to improve convergence.\n",
            "  warnings.warn(\n"
          ]
        },
        {
          "output_type": "stream",
          "name": "stdout",
          "text": [
            "Epoch 16/20 - Training Error: 119.19146408671179, Validation Error: 59.7204321014652\n"
          ]
        },
        {
          "output_type": "stream",
          "name": "stderr",
          "text": [
            "/usr/local/lib/python3.10/dist-packages/sklearn/decomposition/_nmf.py:1710: ConvergenceWarning: Maximum number of iterations 1 reached. Increase it to improve convergence.\n",
            "  warnings.warn(\n"
          ]
        },
        {
          "output_type": "stream",
          "name": "stdout",
          "text": [
            "Epoch 17/20 - Training Error: 119.19146408671179, Validation Error: 59.7204321014652\n"
          ]
        },
        {
          "output_type": "stream",
          "name": "stderr",
          "text": [
            "/usr/local/lib/python3.10/dist-packages/sklearn/decomposition/_nmf.py:1710: ConvergenceWarning: Maximum number of iterations 1 reached. Increase it to improve convergence.\n",
            "  warnings.warn(\n"
          ]
        },
        {
          "output_type": "stream",
          "name": "stdout",
          "text": [
            "Epoch 18/20 - Training Error: 119.19146408671179, Validation Error: 59.7204321014652\n"
          ]
        },
        {
          "output_type": "stream",
          "name": "stderr",
          "text": [
            "/usr/local/lib/python3.10/dist-packages/sklearn/decomposition/_nmf.py:1710: ConvergenceWarning: Maximum number of iterations 1 reached. Increase it to improve convergence.\n",
            "  warnings.warn(\n"
          ]
        },
        {
          "output_type": "stream",
          "name": "stdout",
          "text": [
            "Epoch 19/20 - Training Error: 119.19146408671179, Validation Error: 59.7204321014652\n"
          ]
        },
        {
          "output_type": "stream",
          "name": "stderr",
          "text": [
            "/usr/local/lib/python3.10/dist-packages/sklearn/decomposition/_nmf.py:1710: ConvergenceWarning: Maximum number of iterations 1 reached. Increase it to improve convergence.\n",
            "  warnings.warn(\n"
          ]
        },
        {
          "output_type": "stream",
          "name": "stdout",
          "text": [
            "Epoch 20/20 - Training Error: 119.19146408671179, Validation Error: 59.7204321014652\n"
          ]
        },
        {
          "output_type": "display_data",
          "data": {
            "text/plain": [
              "<Figure size 1000x600 with 1 Axes>"
            ],
            "image/png": "[encoded data removed]"
          },
          "metadata": {}
        }
      ]
    }
  ]
}