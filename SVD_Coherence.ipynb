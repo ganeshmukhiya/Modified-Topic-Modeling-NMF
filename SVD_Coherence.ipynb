{
  "nbformat": 4,
  "nbformat_minor": 0,
  "metadata": {
    "colab": {
      "provenance": [],
      "authorship_tag": "ABX9TyMvuSWdadKV2ahXU7/0dc11",
      "include_colab_link": true
    },
    "kernelspec": {
      "name": "python3",
      "display_name": "Python 3"
    },
    "language_info": {
      "name": "python"
    }
  },
  "cells": [
    {
      "cell_type": "markdown",
      "metadata": {
        "id": "view-in-github",
        "colab_type": "text"
      },
      "source": [
        "<a href=\"https://colab.research.google.com/github/ganeshmukhiya/Topic-Modeling-NMF/blob/main/SVD_Coherence.ipynb\" target=\"_parent\"><img src=\"https://colab.research.google.com/assets/colab-badge.svg\" alt=\"Open In Colab\"/></a>"
      ]
    },
    {
      "cell_type": "code",
      "execution_count": 9,
      "metadata": {
        "colab": {
          "base_uri": "https://localhost:8080/"
        },
        "id": "9kFPcc2_htRQ",
        "outputId": "544b4ae8-987a-4b0c-c4e0-1349081ab59e"
      },
      "outputs": [
        {
          "output_type": "stream",
          "name": "stdout",
          "text": [
            "SVD Model Coherence Score: 0.713469150066705\n"
          ]
        }
      ],
      "source": [
        "import numpy as np\n",
        "from sklearn.decomposition import TruncatedSVD\n",
        "from sklearn.feature_extraction.text import TfidfVectorizer\n",
        "from gensim.models import CoherenceModel\n",
        "from gensim.corpora import Dictionary\n",
        "from gensim.utils import simple_preprocess\n",
        "from sklearn.datasets import fetch_20newsgroups\n",
        "\n",
        "# Fetch the dataset\n",
        "newsgroups_data = fetch_20newsgroups(subset='train')\n",
        "documents = newsgroups_data.data\n",
        "\n",
        "# Step 1: Vectorize the documents using TF-IDF\n",
        "vectorizer = TfidfVectorizer(max_features=1000, stop_words='english')\n",
        "X_train = vectorizer.fit_transform(documents)\n",
        "feature_names = vectorizer.get_feature_names_out()\n",
        "\n",
        "# Step 2: Apply SVD\n",
        "n_topics = 5  # Specify the number of topics\n",
        "svd = TruncatedSVD(n_components=n_topics, random_state=1)\n",
        "W_train = svd.fit_transform(X_train)\n",
        "H = svd.components_\n",
        "\n",
        "# Step 3: Extract the top words for each topic\n",
        "top_words = []\n",
        "for topic_idx, topic in enumerate(H):\n",
        "    top_terms = [feature_names[i] for i in topic.argsort()[:-11:-1]]  # Top 10 terms\n",
        "    top_words.append(top_terms)\n",
        "\n",
        "# Step 4: Prepare the data for Gensim\n",
        "texts = [simple_preprocess(doc) for doc in documents]\n",
        "\n",
        "# Create a dictionary representation of the documents\n",
        "dictionary = Dictionary(texts)\n",
        "\n",
        "# Convert documents to bag-of-words format\n",
        "corpus = [dictionary.doc2bow(text) for text in texts]\n",
        "\n",
        "# Step 5: Calculate coherence score using Gensim's CoherenceModel\n",
        "coherence_model_svd = CoherenceModel(topics=top_words, texts=texts, dictionary=dictionary, coherence='c_v')\n",
        "coherence_score = coherence_model_svd.get_coherence()\n",
        "\n",
        "print(f\"SVD Model Coherence Score: {coherence_score}\")\n"
      ]
    }
  ]
}